{
  "nbformat": 4,
  "nbformat_minor": 0,
  "metadata": {
    "colab": {
      "provenance": [],
      "collapsed_sections": [],
      "authorship_tag": "ABX9TyNBcur3vVQkzG6q3LQqGyha",
      "include_colab_link": true
    },
    "kernelspec": {
      "name": "python3",
      "display_name": "Python 3"
    },
    "language_info": {
      "name": "python"
    }
  },
  "cells": [
    {
      "cell_type": "markdown",
      "metadata": {
        "id": "view-in-github",
        "colab_type": "text"
      },
      "source": [
        "<a href=\"https://colab.research.google.com/github/slapazromero/EjerciciosPython/blob/main/EjerciciosPython.ipynb\" target=\"_parent\"><img src=\"https://colab.research.google.com/assets/colab-badge.svg\" alt=\"Open In Colab\"/></a>"
      ]
    },
    {
      "cell_type": "markdown",
      "source": [
        "## **Ejercicio 1.** Crea un programa en que solicite al usuario dos números y muestre por pantalla el resultado de las siguientes opciones: suma, resta, multiplicación, división, exponente."
      ],
      "metadata": {
        "id": "LxU7CXJjzpEr"
      }
    },
    {
      "cell_type": "code",
      "execution_count": null,
      "metadata": {
        "id": "Ag5kA0xiC8KD"
      },
      "outputs": [],
      "source": [
        "def suma(variable1, variable2):\n",
        "    return variable1 + variable2\n",
        "\n",
        "def resta(variable1, variable2):\n",
        "    return variable1 - variable2\n",
        "\n",
        "def multiplicacion(variable1, variable2):\n",
        "    return variable1 * variable2\n",
        "\n",
        "def division(variable1, variable2):\n",
        "    return variable1 / variable2\n",
        "\n",
        "def potencia(variable1, variable2):\n",
        "    return variable1 ** variable2\n",
        "\n",
        "a = int(input('Introduce un numero: '))\n",
        "b = int(input('Introduce otro numero: '))\n",
        "\n",
        "print('Suma: {0}, Resta: {1}, Multiplicación: {2}, División: {3}, Potencia: {4}'.format(suma(a, b), resta(a, b), multiplicacion(a, b), division(a, b), potencia(a, b)))"
      ]
    },
    {
      "cell_type": "markdown",
      "source": [
        "## **Ejercicio 2.** Crea un programa que solicite al usuario un número y muestre por pantalla la tabla de multiplicar asociada a ese número."
      ],
      "metadata": {
        "id": "-NNbJAeUlSYN"
      }
    },
    {
      "cell_type": "code",
      "source": [
        "def tablas_multiplicar(variable1):\n",
        "    tabla = []\n",
        "    for x in range(11):\n",
        "        tabla.append(variable1 * x)\n",
        "    return tabla\n",
        "\n",
        "a = int(input('Introduzca el numero del que quiera obtener la tabla de multiplicar.'))\n",
        "\n",
        "print(tablas_multiplicar(a))"
      ],
      "metadata": {
        "id": "xy-Nv9VGlaOp"
      },
      "execution_count": null,
      "outputs": []
    },
    {
      "cell_type": "markdown",
      "source": [
        "## **Ejercicio 3.** Escribe un programa que solicite dos números al usuario y muestre por pantalla la suma de todos los números que hay entre ellos dos (ambos incluidos). Ejemplo: para 4 y 8 mostrará 30 que es 4+5+6+7+8."
      ],
      "metadata": {
        "id": "JEoOsnmil2Aq"
      }
    },
    {
      "cell_type": "code",
      "source": [
        "def suma_consecutiva(num1, num2):\n",
        "    suma = 0\n",
        "    for num1 in range(num1, num2 + 1):\n",
        "        suma += num1\n",
        "    return suma\n",
        "\n",
        "a = int(input('Introduzca '))\n",
        "b = int(input())\n",
        "\n",
        "print(suma_consecutiva(a, b))"
      ],
      "metadata": {
        "id": "PVwOumYgl5I4"
      },
      "execution_count": null,
      "outputs": []
    },
    {
      "cell_type": "markdown",
      "source": [
        "## **Ejercicio 4.** Escribe un programa que solicite al usuario un nombre de usuario y contraseña. Si el usuario introduce los datos correctamente (usuario: root contraseña: 1234) mostrará el mensaje “Bienvenido”, sino mostrará el mensaje “Datos incorrectos. Le quedan X intentos”, siendo X el número de intentos restantes. Tras el tercer fallo el programa mostrará el mensaje “Acceso fallido” y finalizará."
      ],
      "metadata": {
        "id": "umUD96WYmQww"
      }
    },
    {
      "cell_type": "code",
      "source": [
        "from getpass import getpass\n",
        "\n",
        "user = 'root'\n",
        "password = '1234'\n",
        "\n",
        "def login():\n",
        "    logeado = False\n",
        "    chance = 3\n",
        "    while chance > 0 and not logeado:\n",
        "        name_user = input('Introduce el nombre de usuario:')\n",
        "        pass_user = getpass('Introduce la contraseña:')\n",
        "        chance -= 1\n",
        "        if (user == name_user and password == pass_user):\n",
        "            print('Bienvenido')\n",
        "            logeado = True\n",
        "\n",
        "        elif chance > 0:\n",
        "            print('Datos incorrectos, le quedan', chance, 'intentos')\n",
        "        else:\n",
        "            print('Acceso fallido')\n",
        "\n",
        "login()"
      ],
      "metadata": {
        "id": "Q5NlUlLamdmP"
      },
      "execution_count": null,
      "outputs": []
    },
    {
      "cell_type": "markdown",
      "source": [
        "## **Ejercicio 5.** Escribe un programa que pida al usuario números naturales hasta que el usuario escriba la palabra “fin”, en ese momento mostrará la cantidad de números pares, cantidad total de números, numero mayor y número menor."
      ],
      "metadata": {
        "id": "tnJCj_AvmlLl"
      }
    },
    {
      "cell_type": "code",
      "source": [
        "array = [12, 5, 2, 75, 2]\n",
        "\n",
        "def num_pares(lista):\n",
        "    pares = []\n",
        "    for x in lista:\n",
        "        if x % 2 == 0:\n",
        "            pares.append(x)\n",
        "    return pares\n",
        "\n",
        "print(len(array), len(num_pares(array)), max(array), min(array))"
      ],
      "metadata": {
        "id": "5ujRXYQnmooy"
      },
      "execution_count": null,
      "outputs": []
    },
    {
      "cell_type": "markdown",
      "source": [
        "## **Ejercicio 6.** Dada la siguiente lista [12, 23, 5, 29, 92, 64] realiza las siguientes operaciones y ve mostrando la lista resultante por pantalla:\n",
        " 1. ## Elimina el último número y añádelo al principio.\n",
        " 2. ## Mueve el segundo elemento a la última posición.\n",
        " 3. ## Añade el número 14 al comienzo de la lista.\n",
        " 4. ## Suma todos los números de la lista y añade el resultado al final de la lista.\n",
        " 5. ## Combina la lista actual con la siguiente: [4, 11, 32]\n",
        " 6. ## Elimina todos los números impares de la lista.\n",
        " 7. ## Ordena los números de la lista de forma ascendente.\n",
        " 8. ## Vacía la lista."
      ],
      "metadata": {
        "id": "gN_JXvi1nAP3"
      }
    },
    {
      "cell_type": "code",
      "source": [
        "array = [12, 23, 5, 29, 92, 64]\n",
        "\n",
        "# Apartado 1\n",
        "value = array[len(array) - 1]\n",
        "\n",
        "array.pop(len(array) - 1)\n",
        "\n",
        "array.insert(0, value)\n",
        "\n",
        "print(array)\n",
        "\n",
        "# Apartado 2\n",
        "value = array[1]\n",
        "\n",
        "array.pop(1)\n",
        "\n",
        "array.append(value)\n",
        "\n",
        "print(array)\n",
        "\n",
        "# Apartado 3\n",
        "array.insert(0, 14)\n",
        "\n",
        "print(array)\n",
        "\n",
        "# Apartado 4\n",
        "suma = 0\n",
        "\n",
        "for num in array:\n",
        "    suma += num\n",
        "\n",
        "array.append(suma)\n",
        "\n",
        "print(array)\n",
        "\n",
        "# Desacemos el apartado 4\n",
        "array.remove(suma)\n",
        "\n",
        "print(array)\n",
        "\n",
        "# Apartado 4 usando la funcion sum de python\n",
        "array.append(sum(array))\n",
        "\n",
        "print(array)\n",
        "\n",
        "# Apartado 5\n",
        "array.extend([4, 11, 32])\n",
        "\n",
        "print(array)\n",
        "\n",
        "# Apartado 6\n",
        "for num in array.copy():\n",
        "    if num % 2 != 0:\n",
        "        array.remove(num)\n",
        "\n",
        "print(array)\n",
        "        \n",
        "# Apartado 7\n",
        "array.sort()\n",
        "\n",
        "print(array)\n",
        "\n",
        "# Apartado 8\n",
        "array.clear()\n",
        "\n",
        "print(array)"
      ],
      "metadata": {
        "id": "yUg-2EpAnlNN"
      },
      "execution_count": null,
      "outputs": []
    },
    {
      "cell_type": "markdown",
      "source": [
        "## **Ejercicio 7.** Crea un programa que solicite al usuario 5 números y los guarde en una lista. A continuación el programa pedirá otros 5 números al usuario almacenándolos en una segunda lista. El programa mostrará al usuario una lista que contenga los números que tienen en común las dos listas anteriores.\n",
        "- ## Ejemplo: Lista 1 = [6,14,11,78,5] y Lista 2 = [3,14,22,78,9]\n",
        "- ## Resultado: [14, 78]"
      ],
      "metadata": {
        "id": "A6onIE3Bp-Ps"
      }
    },
    {
      "cell_type": "code",
      "source": [
        "# Version con un \n",
        "lista1 = []\n",
        "lista2 = []\n",
        "\n",
        "def pedir_num(lista):\n",
        "    for x in range(5):\n",
        "        lista.append(int(input('Introduzca un numero.')))\n",
        "\n",
        "def interseccion(list1, list2):\n",
        "    comunes = {x for x in list1 for y in list2 if x == y}\n",
        "    return comunes\n",
        "\n",
        "pedir_num(lista1)\n",
        "pedir_num(lista2)\n",
        "\n",
        "print(lista1)\n",
        "print(lista2)\n",
        "\n",
        "print(interseccion(lista1, lista2))"
      ],
      "metadata": {
        "id": "IYM6peKHqh5I"
      },
      "execution_count": null,
      "outputs": []
    },
    {
      "cell_type": "markdown",
      "source": [
        "## **Ejercicio 8.** Crea un programa que recorra una lista y cree un diccionario que contenga el número de veces que aparece cada número en la lista.\n",
        "- ## Ejemplo: [12, 23, 5, 12, 92, 5,12, 5, 29, 92, 64, 23]\n",
        "- ## Resultado: {12: 3, 23: 2, 5: 3, 92: 2, 29: 1, 64: 1}"
      ],
      "metadata": {
        "id": "sqi6UdTvsR8S"
      }
    },
    {
      "cell_type": "code",
      "source": [
        "lista = [12, 23, 5, 12, 92, 5,12, 5, 29, 92, 64,23]\n",
        "\n",
        "def cont_repeticiones(list):\n",
        "    diccionario = {}\n",
        "\n",
        "    for x in lista:\n",
        "        if x not in diccionario:\n",
        "            diccionario[x] = 1\n",
        "        else:\n",
        "            diccionario[x] += 1\n",
        "    \n",
        "    return diccionario\n",
        "    \n",
        "\n",
        "print(cont_repeticiones(lista))"
      ],
      "metadata": {
        "id": "Mx80OYbushT1"
      },
      "execution_count": null,
      "outputs": []
    },
    {
      "cell_type": "markdown",
      "source": [
        "## **Ejercicio 9.** Modifica el ejercicio 4 de modo que en lugar de root y 1234 busque el usuario y contraseña en el siguiente diccionario.\n",
        "```Python\n",
        "usuarios = {\n",
        "    \"jim\":{\n",
        "        \"nombre\": \"James\",\n",
        "        \"apellido\": \"Bond\",\n",
        "        \"password\": \"123123\"\n",
        "    },\n",
        "    \"ally\":{\n",
        "        \"nombre\": \"Allison\",\n",
        "        \"apellido\": \"Smith\",\n",
        "        \"password\": \"987654\"\n",
        "    },\n",
        "    \"tim\":{\n",
        "        \"nombre\": \"Thomas\",\n",
        "        \"apellido\": \"Thompson\",\n",
        "        \"password\": \"111111\"\n",
        "    }\n",
        "}\n",
        "```\n",
        "##Nótese que el nombre de usuario es el que aparece al principio, en este caso (jim, ally, tim)"
      ],
      "metadata": {
        "id": "WhxE95_isuMA"
      }
    },
    {
      "cell_type": "code",
      "source": [
        "# Version 1, tiene un error porque entrarias al escribir el nombre o el apellido.\n",
        "from getpass import getpass\n",
        "\n",
        "usuarios = {\n",
        "    \"jim\":{\n",
        "        \"nombre\": \"James\",\n",
        "        \"apellido\": \"Bond\",\n",
        "        \"password\": \"123123\"\n",
        "    },\n",
        "    \"ally\":{\n",
        "        \"nombre\": \"Allison\",\n",
        "        \"apellido\": \"Smith\",\n",
        "        \"password\": \"987654\"\n",
        "    },\n",
        "    \"tim\":{\n",
        "        \"nombre\": \"Thomas\",\n",
        "        \"apellido\": \"Thompson\",\n",
        "        \"password\": \"111111\"\n",
        "    }\n",
        "}\n",
        "\n",
        "def login():\n",
        "    logeado = False\n",
        "    chance = 3\n",
        "    while chance > 0 and not logeado:\n",
        "        name_user = input('Introduce el nombre de usuario:')\n",
        "        pass_user = getpass('Introduce la contraseña:')\n",
        "        chance -= 1\n",
        "        if (name_user in usuarios and pass_user in usuarios[name_user].values()):\n",
        "            print('Bienvenido')\n",
        "            logeado = True\n",
        "\n",
        "        elif chance > 0:\n",
        "            print('Datos incorrectos, le quedan', chance, 'intentos')\n",
        "        else:\n",
        "            print('Acceso fallido')\n",
        "\n",
        "login()\n",
        "\n",
        "print(usuarios)"
      ],
      "metadata": {
        "id": "4Wd304f0tYW8"
      },
      "execution_count": null,
      "outputs": []
    },
    {
      "cell_type": "code",
      "source": [
        "# Version 2, Correción del error.\n",
        "from getpass import getpass\n",
        "\n",
        "\n",
        "usuarios = {\n",
        "    \"jim\":{\n",
        "        \"nombre\": \"James\",\n",
        "        \"apellido\": \"Bond\",\n",
        "        \"password\": \"123123\"\n",
        "    },\n",
        "    \"ally\":{\n",
        "        \"nombre\": \"Allison\",\n",
        "        \"apellido\": \"Smith\",\n",
        "        \"password\": \"987654\"\n",
        "    },\n",
        "    \"tim\":{\n",
        "        \"nombre\": \"Thomas\",\n",
        "        \"apellido\": \"Thompson\",\n",
        "        \"password\": \"111111\"\n",
        "    }\n",
        "}\n",
        "\n",
        "def login():\n",
        "    logeado = False\n",
        "    chance = 3\n",
        "    while chance > 0 and not logeado:\n",
        "        name_user = input('Introduce el nombre de usuario:')\n",
        "        pass_user = getpass('Introduce la contraseña:')\n",
        "        chance -= 1\n",
        "        if (name_user in usuarios and pass_user in usuarios[name_user].get('password')):\n",
        "            print('Bienvenido')\n",
        "            logeado = True\n",
        "\n",
        "        elif chance > 0:\n",
        "            print('Datos incorrectos, le quedan', chance, 'intentos')\n",
        "        else:\n",
        "            print('Acceso fallido')\n",
        "\n",
        "login()"
      ],
      "metadata": {
        "id": "i3d-6UTkt9px"
      },
      "execution_count": null,
      "outputs": []
    },
    {
      "cell_type": "markdown",
      "source": [
        "## **Ejercicio 10:** Crea las siguientes funciones:\n",
        "- ## esPrimo. Recibe un número y devuelve True o False dependiendo si el número es primo o no.\n",
        "- ## Ejercicio 7 → función intersección, recibe dos listas y devuelve una lista con la intersección de ambas\n",
        "- ## Ejercicio 8 → recibe una lista y devuelve un diccionario con el número de repeticiones de cada elemento.\n",
        "- ## Revisa los ejercicios anteriores (del 1 al 9) y crea las funciones que consideres para que el código sea modular."
      ],
      "metadata": {
        "id": "cG8VhTx_yH9g"
      }
    },
    {
      "cell_type": "code",
      "source": [
        "def esPrimo(numero):\n",
        "    if numero < 2:\n",
        "        return False\n",
        "    for num in range(2, numero):\n",
        "        if numero % num == 0:\n",
        "            return False\n",
        "    return True\n",
        "\n",
        "def interseccion(list1, list2):\n",
        "    comunes = {x for x in list1 for y in list2 if x == y}\n",
        "    return comunes\n",
        "\n",
        "def cont_repeticiones(list):\n",
        "    diccionario = {}\n",
        "\n",
        "    for x in list:\n",
        "        if x not in diccionario:\n",
        "            diccionario[x] = 1\n",
        "        else:\n",
        "            diccionario[x] += 1\n",
        "    \n",
        "    return diccionario"
      ],
      "metadata": {
        "id": "qeFXaGd7yLAt"
      },
      "execution_count": null,
      "outputs": []
    },
    {
      "cell_type": "markdown",
      "source": [
        "## **Ejercicio 11:** Crea una clase Robot que simule los movimientos de un robot y calcule la posición en la que se encuentra cada momento.\n",
        "##El robot se moverá por un tablero infinito de coordenadas X e Y, podrá realizar los siguientes movimientos:\n",
        "- ## Avanzar hacia adelante (A)\n",
        "- ## Retroceder (R)\n",
        "- ## Avanzar hacia la izquierda (I) o hacia la derecha (D)\n",
        "## El robot tendrá un método llamado mueve() que recibirá la orden como parámetro y otro método, posicion_actual(), que indicará su posición en las coordenadas X e Y. Al crear el robot este se inicializará a las coordenadas (0,0).\n",
        "## Ejemplo:\n",
        "- ## mueve(“A”) # (0, 1)\n",
        "- ## mueve(“A”) # (0, 2)\n",
        "- ## mueve(“I”) # (-1, 2)\n",
        "- ## mueve(“A”) # (-1, 3)\n",
        "- ## mueve(“D”) # (0, 3)\n",
        "- ## mueve(“D”) # (1, 3)\n",
        "- ## mueve(“D”) # (2, 3)\n",
        "- ## mueve(“R”) # (2, 2)\n",
        "- ## mueve(“I”) # (1, 2)"
      ],
      "metadata": {
        "id": "YxgBWATFyL0k"
      }
    },
    {
      "cell_type": "code",
      "source": [
        "class Robot:\n",
        "\n",
        "    def __init__(self) -> None:\n",
        "        self._coor_x = 0\n",
        "        self._coor_y = 0\n",
        "\n",
        "    def mueve(self, movimiento) -> None:\n",
        "        if movimiento.upper() == 'A':\n",
        "            self._coor_y += 1\n",
        "        elif movimiento.upper() == 'R':\n",
        "            self._coor_y -= 1\n",
        "        elif movimiento.upper() == 'I':\n",
        "            self._coor_x -= 1\n",
        "        elif movimiento.upper() == 'D':\n",
        "            self._coor_x += 1\n",
        "        else:\n",
        "            print('El comando introducido es incorrecto')\n",
        "            \n",
        "    def posicion_actual(self):\n",
        "        return f'({self._coor_x}, {self._coor_y})'\n",
        "    \n",
        "robot = Robot()\n",
        "\n",
        "print(robot.posicion_actual())\n",
        "robot.mueve('a')\n",
        "print(robot.posicion_actual())\n",
        "robot.mueve('I')\n",
        "print(robot.posicion_actual())\n",
        "robot.mueve('D')\n",
        "print(robot.posicion_actual())\n",
        "robot.mueve('r')\n",
        "print(robot.posicion_actual())\n",
        "robot.mueve('D')\n",
        "print(robot.posicion_actual())\n",
        "robot.mueve('r')\n",
        "print(robot.posicion_actual())"
      ],
      "metadata": {
        "id": "BZSid4eszr9C"
      },
      "execution_count": null,
      "outputs": []
    },
    {
      "cell_type": "markdown",
      "source": [
        "## **Ejercicio 12:** Mejora el ejercicio anterior de forma que el robot pueda recibir una secuencia de movimientos.\n",
        "## Ejemplo:\n",
        "- ## mueve(“AADDADIR”) # (2,2)\n",
        "\n",
        "## También deberá tener otros dos métodos: uno que devuelva todas las órdenes recibidas y otro capaz de listar los movimientos necesarios para volver a la posición inicial (0,0)."
      ],
      "metadata": {
        "id": "v46ytrwszq33"
      }
    },
    {
      "cell_type": "code",
      "source": [
        "class Robot:\n",
        "\n",
        "    def __init__(self) -> None:\n",
        "        self._coor_x = 0\n",
        "        self._coor_y = 0\n",
        "        \n",
        "    @property\n",
        "    def coor_x(self):\n",
        "        return self._coor_x\n",
        "    \n",
        "    @coor_x.setter\n",
        "    def coor_x(self, valor):\n",
        "        self._coor_x = valor\n",
        "    \n",
        "    @property\n",
        "    def coor_y(self):\n",
        "        return self._coor_y\n",
        "    \n",
        "    @coor_y.setter\n",
        "    def coor_y(self, valor):\n",
        "        self.coor_y = valor\n",
        "\n",
        "    def mueve(self, movimiento) -> None:\n",
        "        for orden in movimiento:\n",
        "            if orden.upper() == 'A':\n",
        "                self._coor_y += 1\n",
        "            elif orden.upper() == 'R':\n",
        "                    self._coor_y -= 1\n",
        "            elif orden.upper() == 'I':\n",
        "                self._coor_x -= 1\n",
        "            elif orden.upper() == 'D':\n",
        "                self._coor_x += 1\n",
        "            else:\n",
        "                print(f'El comando \"{orden}\" es incorrecto')\n",
        "            \n",
        "    def posicion_actual(self):\n",
        "        return f'({self._coor_x}, {self._coor_y})'\n",
        "    \n",
        "robot = Robot()"
      ],
      "metadata": {
        "id": "yxGcEPbg0Hh3"
      },
      "execution_count": null,
      "outputs": []
    },
    {
      "cell_type": "markdown",
      "source": [
        "## **Ejercicio 13:** Crea la clase Coche que contenga las siguientes propiedades:\n",
        "- ## matrícula (string)\n",
        "- ## marca (string)\n",
        "- ## kilometros_recorridos (float)\n",
        "- ## gasolina (float)\n",
        "\n",
        "## La clase tendrá un método llamado avanzar() que recibirá como argumento el número de kilómetros a conducir y sumará los kilómetros recorridos al valor de la propiedad kilometros_recorridos. El método también restará al valor de gasolina el resultado de los kilómetros multiplicado por 0’1. La clase también contendrá otro método llamado repostar() que recibirá como argumento los litros introducidos que deberán sumarse a la variable gasolina.\n",
        "\n",
        "## Por último, será necesario controlar que el método avanzar nunca obtendrá un número negativo en la gasolina. En dicho caso, deberá mostrar el siguiente mensaje: “Es necesario repostar para recorrer la cantidad indicada de kilómetros”.\n",
        "\n",
        "## Ejemplo:\n",
        "- ## repostar(50) # gasolina = 50\n",
        "- ## recorrer(100) # kilometros_recorridos = 100, gasolina = 40\n",
        "- ## recorrer(40) # kilometros_recorridos = 140, gasolina = 36\n",
        "- ## recorrer(180) # kilometros_recorridos = 320, gasolina = 18"
      ],
      "metadata": {
        "id": "OiGvvUOl0H5R"
      }
    },
    {
      "cell_type": "code",
      "source": [
        "class Coche:\n",
        "    \n",
        "    def __init__(self, matricula, marca, kilometros_recorridos = 0.0, gasolina = 0.0) -> None:\n",
        "        self._matricula = matricula\n",
        "        self._marca = marca\n",
        "        self._kilometros_recorridos = float(kilometros_recorridos)\n",
        "        self._gasolina = float(gasolina)\n",
        "        \n",
        "    @property\n",
        "    def matricula(self):\n",
        "        return self._matricula\n",
        "    \n",
        "    @matricula.setter\n",
        "    def matricula(self, valor):\n",
        "        self._matricula = valor\n",
        "        \n",
        "    @matricula.deleter\n",
        "    def matricula(self):\n",
        "        del self._matricula\n",
        "        \n",
        "    @property\n",
        "    def marca(self):\n",
        "        return self._marca\n",
        "    \n",
        "    @marca.setter\n",
        "    def marca(self, valor):\n",
        "        self._marca = valor\n",
        "        \n",
        "    @marca.deleter\n",
        "    def marca(self):\n",
        "        del self._marca\n",
        "        \n",
        "    @property\n",
        "    def kilometros_recorridos(self):\n",
        "        return self._kilometros_recorridos\n",
        "    \n",
        "    @kilometros_recorridos.setter\n",
        "    def kilometros_recorridos(self, valor):\n",
        "        self._kilometros_recorridos = valor\n",
        "        \n",
        "    @kilometros_recorridos.deleter\n",
        "    def kilometros_recorridos(self):\n",
        "        del self._kilometros_recorridos\n",
        "        \n",
        "    @property\n",
        "    def gasolina(self):\n",
        "        return self._gasolina\n",
        "    \n",
        "    @gasolina.setter\n",
        "    def gasolina(self, valor):\n",
        "        self._gasolina = valor\n",
        "        \n",
        "    @gasolina.deleter\n",
        "    def gasolina(self):\n",
        "        del self._gasolina\n",
        "        \n",
        "    def recorrer(self, distancia_viaje):\n",
        "        if distancia_viaje * 0.1 > self.gasolina:\n",
        "            print(f'Es necesario repostar {distancia_viaje * 0.1 - self.gasolina} litros de gasolina para recorrer la cantidad indicada de kilómetros')\n",
        "        else:\n",
        "            self.kilometros_recorridos += distancia_viaje\n",
        "            self.gasolina -= distancia_viaje * 0.1\n",
        "        \n",
        "    def repostar(self, gasolina_repostada):\n",
        "        self.gasolina += gasolina_repostada\n",
        "        \n",
        "    def __str__(self) -> str:\n",
        "        return f'Matricula: {self.matricula}, Marca: {self.marca}, Kilometros: {self.kilometros_recorridos}, Gasolina: {self.gasolina}'"
      ],
      "metadata": {
        "id": "uu0-5Eno1SEf"
      },
      "execution_count": null,
      "outputs": []
    },
    {
      "cell_type": "markdown",
      "source": [
        "## **Ejercicio 14:** Continuando con el ejercicio anterior, crea una clase Vehículo y otra llamada Bicicleta. La clase Vehículo será el padre de Coche y Bicicleta y contendrá las propiedades y métodos comunes de ambos. La bicicleta no tendrá gasolina ni repostará, pero cada 50 kilómetros necesitará invocar al método hinchar_ruedas() o no podrá continuar."
      ],
      "metadata": {
        "id": "X1tcpheN1Syp"
      }
    },
    {
      "cell_type": "code",
      "source": [
        "class Vehiculo:\n",
        "    \n",
        "    def __init__(self, marca, kilometros_recorridos = 0.0) -> None:\n",
        "        self._marca = marca\n",
        "        self._kilometros_recorridos = kilometros_recorridos\n",
        "        \n",
        "    @property\n",
        "    def marca(self):\n",
        "        return self._marca\n",
        "    \n",
        "    @marca.setter\n",
        "    def marca(self, valor):\n",
        "        self._marca = valor\n",
        "        \n",
        "    @marca.deleter\n",
        "    def marca(self):\n",
        "        del self._marca\n",
        "        \n",
        "    @property\n",
        "    def kilometros_recorridos(self):\n",
        "        return self._kilometros_recorridos\n",
        "    \n",
        "    @kilometros_recorridos.setter\n",
        "    def kilometros_recorridos(self, valor):\n",
        "        self._kilometros_recorridos = valor\n",
        "        \n",
        "    @kilometros_recorridos.deleter\n",
        "    def kilometros_recorridos(self):\n",
        "        del self._kilometros_recorridos\n",
        "        \n",
        "    def __str__(self) -> str:\n",
        "        return f'Marca: {self.marca}, Kilometros: {self.kilometros_recorridos}'"
      ],
      "metadata": {
        "id": "gJGNNZID1fO1"
      },
      "execution_count": null,
      "outputs": []
    },
    {
      "cell_type": "code",
      "source": [
        "class Coche(Vehiculo):\n",
        "    \n",
        "    def __init__(self, matricula, marca, kilometros_recorridos=0.0, gasolina = 0.0) -> None:\n",
        "        self._matricula = matricula\n",
        "        super().__init__(marca, kilometros_recorridos)\n",
        "        self._gasolina = gasolina\n",
        "        \n",
        "        \n",
        "    @property\n",
        "    def matricula(self):\n",
        "        return self._matricula\n",
        "    \n",
        "    @matricula.setter\n",
        "    def matricula(self, valor):\n",
        "        self._matricula = valor\n",
        "        \n",
        "    @matricula.deleter\n",
        "    def matricula(self):\n",
        "        del self._matricula\n",
        "        \n",
        "    @property\n",
        "    def gasolina(self):\n",
        "        return self._gasolina\n",
        "    \n",
        "    @gasolina.setter\n",
        "    def gasolina(self, valor):\n",
        "        self._gasolina = valor\n",
        "        \n",
        "    @gasolina.deleter\n",
        "    def gasolina(self):\n",
        "        del self._gasolina\n",
        "        \n",
        "    def recorrer(self, distancia_viaje):\n",
        "        if distancia_viaje * 0.1 > self.gasolina:\n",
        "            print(f'Es necesario repostar {distancia_viaje * 0.1 - self.gasolina} litros de gasolina para recorrer la cantidad indicada de kilómetros')\n",
        "        else:\n",
        "            self.kilometros_recorridos += distancia_viaje\n",
        "            self.gasolina -= distancia_viaje * 0.1\n",
        "        \n",
        "    def repostar(self, gasolina_repostada):\n",
        "        self.gasolina += gasolina_repostada\n",
        "        \n",
        "    def __str__(self) -> str:\n",
        "        return f'Matricula: {self.matricula}, {super().__str__()}, Gasolina: {self.gasolina}'"
      ],
      "metadata": {
        "id": "0aO3341nAeZF"
      },
      "execution_count": null,
      "outputs": []
    },
    {
      "cell_type": "code",
      "source": [
        "class Bicicleta(Vehiculo):\n",
        "    \n",
        "    def __init__(self, marca, kilometros_recorridos = 0.0, ruedas_hinchadas = True) -> None:\n",
        "        super().__init__(marca, kilometros_recorridos)\n",
        "        self._ruedas_hinchadas = ruedas_hinchadas\n",
        "        self.__distancia_tras_hinchar = 0.0\n",
        "    \n",
        "    @property\n",
        "    def ruedas_hinchadas(self):\n",
        "        return self._ruedas_hinchadas\n",
        "    \n",
        "    @ruedas_hinchadas.setter\n",
        "    def ruedas_hinchadas(self, valor):\n",
        "        self._ruedas_hinchadas = valor\n",
        "    \n",
        "    @ruedas_hinchadas.deleter\n",
        "    def ruedas_hinchadas(self):\n",
        "        del self._ruedas_hinchadas\n",
        "        \n",
        "    def recorrer(self, distancia_viaje) -> None:\n",
        "        if self.ruedas_hinchadas:\n",
        "            if self.__distancia_tras_hinchar + distancia_viaje < 50:\n",
        "                self.kilometros_recorridos += distancia_viaje\n",
        "                self.__distancia_tras_hinchar += distancia_viaje\n",
        "            elif self.__distancia_tras_hinchar + distancia_viaje == 50:\n",
        "                self.kilometros_recorridos += distancia_viaje\n",
        "                self.__distancia_tras_hinchar += distancia_viaje\n",
        "                self.ruedas_hinchadas = False\n",
        "            else:\n",
        "                self.kilometros_recorridos += distancia_viaje\n",
        "                distancia_viaje += self.__distancia_tras_hinchar\n",
        "                self.__distancia_tras_hinchar = 0.0\n",
        "                for hinchar_veces in range(int(distancia_viaje) // 50):\n",
        "                    distancia_viaje -= 50\n",
        "                    self.hinchar_ruedas\n",
        "                self.__distancia_tras_hinchar += distancia_viaje\n",
        "                    \n",
        "    def recorrer_no_hinchado(self, distancia_viaje) -> None:\n",
        "        if self.ruedas_hinchadas:\n",
        "            if distancia_viaje > 50:\n",
        "                print(f'Para realizar el viaje se deben de inflar las ruedas minimo {distancia_viaje % 50} veces durante el viaje')\n",
        "            elif self.__distancia_tras_hinchar + distancia_viaje < 50:\n",
        "                self.kilometros_recorridos += distancia_viaje\n",
        "                self.__distancia_tras_hinchar += distancia_viaje\n",
        "            elif self.__distancia_tras_hinchar + distancia_viaje == 50:\n",
        "                self.kilometros_recorridos += distancia_viaje\n",
        "                self.__distancia_tras_hinchar += distancia_viaje\n",
        "                self.ruedas_hinchadas = False\n",
        "            else:\n",
        "                print('Las ruedas no tienen suficiente presión para realizar el viaje')\n",
        "        else:\n",
        "            print('Es necesario inflar las ruedas')\n",
        "            \n",
        "            \n",
        "    def hinchar_ruedas(self) -> None:\n",
        "        print('Se han hinchado las ruedas')\n",
        "        self.ruedas_hinchadas = True\n",
        "        \n",
        "    def __str__(self) -> str:\n",
        "        return f'{super().__str__()}, Ruedas hinchadas: {self.ruedas_hinchadas}, Distancia tras hinchar: {self.__distancia_tras_hinchar}'"
      ],
      "metadata": {
        "id": "xmMeJHkHAeou"
      },
      "execution_count": null,
      "outputs": []
    },
    {
      "cell_type": "markdown",
      "source": [
        "## **Ejercicio 15:** Implementa un programa en python que codifique y descodifique un fichero de texto (las opciones y el nombre del fichero de origen y destino se pedirán por teclado). Para ello se va a seguir un algoritmo de codificación muy sencillo: a cada carácter comprendido entre la a y la z, se le suma 13 y luego se aplica el módulo 26, para obtener un nuevo carácter. (los caracteres que no estén entre la a y la z minúscula se dejan como están).\n",
        "\n",
        "## Por ejemplo la cadena ‘hola’ se codificará como ‘ubyn’\n",
        "\n",
        "## abcdefghijklmnopqrstuvwxyz\n",
        "\n",
        "## posición de la h (7) → 7+13 = 20 → 20 mod 26 = 20 → letra en la posición 20 u\n",
        "## posición de la 0 (14) → 14+13=27→ 27 mod 26 = 1 → letra en la posición 1 b\n",
        "## posición de la l (11) → 11+13=24 → 24 mod 26 = 24 → letra en la posición 24 y\n",
        "## posición de la a (0) → 0+13=13 → 13 mod 26 = 13 → letra en la posición 13"
      ],
      "metadata": {
        "id": "C_jDSaQi1enF"
      }
    },
    {
      "cell_type": "code",
      "source": [
        "match = 'abcdefghijklmnopqrstuvwxyz'\n",
        "def codificar_fichero(fichero_entrada, fichero_salida):\n",
        "    try:\n",
        "        with open(fichero_entrada, 'r') as fichero:\n",
        "            with open(fichero_salida, 'w') as fichero_codificado:\n",
        "                for linea in fichero.readlines():\n",
        "                    linea_codificada = ''\n",
        "                    for index in range(len(linea)):\n",
        "                        if linea[index] in match:\n",
        "                            linea_codificada += match[(match.index(linea[index]) + 13) % 26]\n",
        "                        else:\n",
        "                            linea_codificada += linea[index]\n",
        "                    fichero_codificado.write(linea_codificada)\n",
        "    except FileNotFoundError:\n",
        "        print('El nombre del fichero de entrada no existe')\n",
        "                \n",
        "                \n",
        "def decodificar_fichero(fichero_entrada, fichero_salida):\n",
        "    try:\n",
        "        with open(fichero_entrada, 'r') as fichero:\n",
        "            with open(fichero_salida, 'w') as fichero_codificado:\n",
        "                for linea in fichero.readlines():\n",
        "                    linea_codificada = ''\n",
        "                    for index in range(len(linea)):\n",
        "                        if linea[index] in match:\n",
        "                            linea_codificada += match[(match.index(linea[index]) - 13)]\n",
        "                        else:\n",
        "                            linea_codificada += linea[index]\n",
        "                    fichero_codificado.write(linea_codificada)\n",
        "    except FileNotFoundError:\n",
        "        print('El nombre del fichero de entrada no existe')\n",
        "        \n",
        "def codificador_decodificador():\n",
        "    fin = True\n",
        "    while fin:\n",
        "        opcion = input('Seleccione la opción desea ejecutar:\\n0. Salir\\n1. Codificar fichero.\\n2. Decodificar fichero.\\n')\n",
        "        if opcion == '1':\n",
        "            codificar_fichero(input('Fichero de entrada:'), input('Fichero de salida'))\n",
        "        elif opcion == '2':\n",
        "            decodificar_fichero(input('Fichero de entrada:'), input('Fichero de salida'))\n",
        "        elif opcion == '0':\n",
        "            print('adios')\n",
        "            fin = False\n",
        "        else:\n",
        "            print('Opción no valida')"
      ],
      "metadata": {
        "id": "nQRPptyt163S"
      },
      "execution_count": null,
      "outputs": []
    }
  ]
}